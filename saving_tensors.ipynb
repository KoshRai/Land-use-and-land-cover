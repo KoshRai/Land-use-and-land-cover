{
 "cells": [
  {
   "cell_type": "code",
   "execution_count": 7,
   "metadata": {},
   "outputs": [],
   "source": [
    "import torch\n",
    "import torch.nn as nn\n",
    "from torch.utils.data import Dataset, DataLoader\n",
    "import matplotlib.pyplot as plt\n",
    "import cv2 as cv\n",
    "import numpy as np\n",
    "import os"
   ]
  },
  {
   "cell_type": "code",
   "execution_count": 8,
   "metadata": {},
   "outputs": [],
   "source": [
    "class SARData(Dataset):\n",
    "    def __init__(self):\n",
    "        \n",
    "        self.xtrain_path = \"C:\\\\Users\\\\Kosh Rai\\\\Desktop\\\\Dataset\\\\Dataset\\\\img_dir\"#Path to inputs\n",
    "        self.ytrain_path = \"C:\\\\Users\\\\Kosh Rai\\\\Desktop\\\\Dataset\\\\Dataset\\\\ann_dir_8bit\" #Path to labels\n",
    "\n",
    "        self.imgs = np.array(os.listdir(self.xtrain_path))\n",
    "        self.num_classes = 5\n",
    "        self.height, self.width = 256,256\n",
    "\n",
    "        self.xtrain, self.ytrain = [], []\n",
    "        for idx in range(len(self.imgs)):\n",
    "            xtrain = cv.imread(f\"{self.xtrain_path}/{self.imgs[idx]}\")\n",
    "            xtrain = cv.cvtColor(xtrain, cv.COLOR_BGR2RGB)\n",
    "            xtrain = torch.tensor(xtrain).permute(2,0,1) #HWC -> CHW\n",
    "            self.xtrain.append(xtrain)\n",
    "\n",
    "            ytrain = cv.imread(f\"{self.ytrain_path}/{self.imgs[idx]}\", cv.IMREAD_GRAYSCALE)\n",
    "            ytrain = torch.tensor(ytrain)\n",
    "            processed_ytrain = self.process_label(ytrain)\n",
    "            self.ytrain.append(processed_ytrain)\n",
    "\n",
    "        self.xtrain, self.ytrain = torch.stack(self.xtrain), torch.stack(self.ytrain)\n",
    "        print(f\"xtrain tensor size : {self.xtrain.shape}\")\n",
    "        print(f\"ytrain tensor size : {self.ytrain.shape}\")\n",
    "\n",
    "\n",
    "    def process_label(self, label):\n",
    "        r = []\n",
    "        for i in range(self.num_classes):\n",
    "            mask = label == i+1\n",
    "            mask = mask.float()\n",
    "            r.append(mask)\n",
    "        return torch.stack(r)\n",
    "    \n",
    "    def __len__(self):\n",
    "        return len(self.imgs)\n",
    "    \n",
    "    def __getitem__(self, idx):             \n",
    "        return self.xtrain[idx], self.ytrain[idx]"
   ]
  },
  {
   "cell_type": "code",
   "execution_count": 9,
   "metadata": {},
   "outputs": [
    {
     "name": "stdout",
     "output_type": "stream",
     "text": [
      "xtrain tensor size : torch.Size([6608, 3, 256, 256])\n",
      "ytrain tensor size : torch.Size([6608, 5, 256, 256])\n"
     ]
    }
   ],
   "source": [
    "data = SARData()"
   ]
  },
  {
   "cell_type": "code",
   "execution_count": 10,
   "metadata": {},
   "outputs": [],
   "source": [
    "torch.save(data.xtrain, r'C:\\Users\\Kosh Rai\\Desktop\\Dataset\\Dataset\\Processed Tensors\\xtrain.pt')"
   ]
  },
  {
   "cell_type": "code",
   "execution_count": 11,
   "metadata": {},
   "outputs": [],
   "source": [
    "torch.save(data.ytrain, r'C:\\Users\\Kosh Rai\\Desktop\\Dataset\\Dataset\\Processed Tensors\\ytrain.pt')"
   ]
  }
 ],
 "metadata": {
  "kernelspec": {
   "display_name": "base",
   "language": "python",
   "name": "python3"
  },
  "language_info": {
   "codemirror_mode": {
    "name": "ipython",
    "version": 3
   },
   "file_extension": ".py",
   "mimetype": "text/x-python",
   "name": "python",
   "nbconvert_exporter": "python",
   "pygments_lexer": "ipython3",
   "version": "3.10.8"
  },
  "orig_nbformat": 4
 },
 "nbformat": 4,
 "nbformat_minor": 2
}
